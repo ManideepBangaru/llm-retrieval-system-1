{
 "cells": [
  {
   "cell_type": "code",
   "execution_count": 3,
   "metadata": {},
   "outputs": [],
   "source": [
    "# import libraries\n",
    "import polars as pl"
   ]
  },
  {
   "cell_type": "code",
   "execution_count": null,
   "metadata": {},
   "outputs": [],
   "source": [
    "# import games data from data folder\n",
    "games_data = pl.read_csv(\"data/games_general_data.csv\")\n",
    "games_data"
   ]
  },
  {
   "cell_type": "code",
   "execution_count": null,
   "metadata": {},
   "outputs": [],
   "source": [
    "# subset games data to only include the columns we need\n",
    "game_titles_data = games_data.select([\"game_id\", \"title\", \"release_year\"])\n",
    "game_titles_data"
   ]
  },
  {
   "cell_type": "code",
   "execution_count": null,
   "metadata": {},
   "outputs": [],
   "source": [
    "# subset games data to only include the columns we need\n",
    "games_releases_data = games_data.select([\"game_id\", \"title\", \"release_year\"])\n",
    "games_releases_data"
   ]
  },
  {
   "cell_type": "code",
   "execution_count": null,
   "metadata": {},
   "outputs": [],
   "source": [
    "games_publishers_data = games_data.select([\"game_id\",\"publisher\"])\n",
    "games_publishers_data"
   ]
  },
  {
   "cell_type": "code",
   "execution_count": null,
   "metadata": {},
   "outputs": [],
   "source": [
    "# convert game_titles_data, games_releases_data, games_publishers_data to json\n",
    "game_titles_data_json = game_titles_data.to_json()    \n",
    "games_releases_data_json = games_releases_data.to_json()\n",
    "games_publishers_data_json = games_publishers_data.to_json()\n",
    "# save the json files to the data folder\n",
    "game_titles_data_json.write_json(\"data/game_titles_data.json\")\n",
    "games_releases_data_json.write_json(\"data/games_releases_data.json\")\n",
    "games_publishers_data_json.write_json(\"data/games_publishers_data.json\")"
   ]
  },
  {
   "cell_type": "code",
   "execution_count": 25,
   "metadata": {},
   "outputs": [],
   "source": [
    "# convert polars dataframe to json\n",
    "game_titles_data.write_json(\"data/game_titles_data.json\")\n",
    "games_releases_data.write_json(\"data/games_releases_data.json\")\n",
    "games_publishers_data.write_json(\"data/games_publishers_data.json\")"
   ]
  },
  {
   "cell_type": "code",
   "execution_count": null,
   "metadata": {},
   "outputs": [],
   "source": [
    "# load the json file using json library\n",
    "import json\n",
    "with open(\"data/game_titles_data.json\", \"r\") as f:\n",
    "    game_titles_data_json = json.load(f)\n",
    "game_titles_data_json"
   ]
  },
  {
   "cell_type": "code",
   "execution_count": null,
   "metadata": {},
   "outputs": [],
   "source": []
  }
 ],
 "metadata": {
  "kernelspec": {
   "display_name": "llmEnv",
   "language": "python",
   "name": "python3"
  },
  "language_info": {
   "codemirror_mode": {
    "name": "ipython",
    "version": 3
   },
   "file_extension": ".py",
   "mimetype": "text/x-python",
   "name": "python",
   "nbconvert_exporter": "python",
   "pygments_lexer": "ipython3",
   "version": "3.11.9"
  }
 },
 "nbformat": 4,
 "nbformat_minor": 2
}
