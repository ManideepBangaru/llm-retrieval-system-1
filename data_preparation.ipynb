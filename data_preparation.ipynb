{
 "cells": [
  {
   "cell_type": "code",
   "execution_count": 11,
   "metadata": {},
   "outputs": [],
   "source": [
    "# import libraries\n",
    "import polars as pl"
   ]
  },
  {
   "cell_type": "code",
   "execution_count": null,
   "metadata": {},
   "outputs": [],
   "source": [
    "# import games data from data folder\n",
    "games_data = pl.read_csv(\"data/games_general_data.csv\")\n",
    "games_data"
   ]
  },
  {
   "cell_type": "code",
   "execution_count": null,
   "metadata": {},
   "outputs": [],
   "source": [
    "# subset games data to only include the columns we need\n",
    "game_titles_data = games_data.select([\"game_id\", \"title\"])\n",
    "game_titles_data"
   ]
  },
  {
   "cell_type": "code",
   "execution_count": null,
   "metadata": {},
   "outputs": [],
   "source": [
    "# subset games data to only include the columns we need\n",
    "games_releases_data = games_data.select([\"game_id\", \"title\", \"release_year\"])\n",
    "games_releases_data"
   ]
  },
  {
   "cell_type": "code",
   "execution_count": null,
   "metadata": {},
   "outputs": [],
   "source": [
    "games_publishers_data = games_data.select([\"game_id\",\"publisher\"])\n",
    "games_publishers_data"
   ]
  },
  {
   "cell_type": "code",
   "execution_count": 16,
   "metadata": {},
   "outputs": [],
   "source": [
    "# convert polars dataframe to json\n",
    "game_titles_data[0:100].write_json(\"data/game_titles_data.json\")"
   ]
  },
  {
   "cell_type": "code",
   "execution_count": 17,
   "metadata": {},
   "outputs": [],
   "source": [
    "# extract games_releases information for below games\n",
    "games_data.filter(pl.col(\"game_id\").is_in(game_titles_data[0:10][\"game_id\"])).select([\"game_id\", \"release_year\"]).write_json(\"data/games_releases_data.json\")\n",
    "games_data.filter(pl.col(\"game_id\").is_in(game_titles_data[0:10][\"game_id\"])).select([\"game_id\", \"publisher\"]).write_json(\"data/games_publishers_data.json\")\n"
   ]
  },
  {
   "cell_type": "code",
   "execution_count": null,
   "metadata": {},
   "outputs": [],
   "source": [
    "# load the json file using json library\n",
    "import json\n",
    "with open(\"data/game_titles_data.json\", \"r\") as f:\n",
    "    game_titles_data_json = json.load(f)\n",
    "game_titles_data_json"
   ]
  },
  {
   "cell_type": "code",
   "execution_count": 20,
   "metadata": {},
   "outputs": [],
   "source": [
    "cls_data = pl.read_csv(\"data/games_classification_data.csv\")\n",
    "cls_data_sub = cls_data.filter(pl.col(\"game_id\").is_in(game_titles_data[0:100][\"game_id\"]))"
   ]
  },
  {
   "cell_type": "code",
   "execution_count": 27,
   "metadata": {},
   "outputs": [],
   "source": [
    "# want to do a groupby on game_id and get unique classification_type_id per game\n",
    "cls_type_data = cls_data_sub.select(pl.col(\"game_id\"), pl.col(\"classification_type_id\"), pl.col(\"classification_type_name\"))"
   ]
  },
  {
   "cell_type": "code",
   "execution_count": null,
   "metadata": {},
   "outputs": [],
   "source": [
    "# remove duplicates by doing keep=first\n",
    "cls_type_data = cls_type_data.unique(subset=[\"game_id\", \"classification_type_id\",\"classification_type_name\"], keep=\"first\")\n",
    "cls_type_data"
   ]
  },
  {
   "cell_type": "code",
   "execution_count": 42,
   "metadata": {},
   "outputs": [],
   "source": [
    "cls_type_data.write_json(\"data/games_classifications_type_data.json\")"
   ]
  },
  {
   "cell_type": "code",
   "execution_count": 50,
   "metadata": {},
   "outputs": [],
   "source": [
    "cls_value_data = cls_data_sub.select(pl.col(\"game_id\"), pl.col(\"classification_type_id\"), pl.col(\"game_classification_id\"), pl.col(\"classification_name\"))"
   ]
  },
  {
   "cell_type": "code",
   "execution_count": null,
   "metadata": {},
   "outputs": [],
   "source": [
    "cls_value_data"
   ]
  },
  {
   "cell_type": "code",
   "execution_count": 52,
   "metadata": {},
   "outputs": [],
   "source": [
    "cls_value_data.write_json(\"data/games_classifications_value_data.json\")"
   ]
  }
 ],
 "metadata": {
  "kernelspec": {
   "display_name": "llmEnv",
   "language": "python",
   "name": "python3"
  },
  "language_info": {
   "codemirror_mode": {
    "name": "ipython",
    "version": 3
   },
   "file_extension": ".py",
   "mimetype": "text/x-python",
   "name": "python",
   "nbconvert_exporter": "python",
   "pygments_lexer": "ipython3",
   "version": "3.11.9"
  }
 },
 "nbformat": 4,
 "nbformat_minor": 2
}
